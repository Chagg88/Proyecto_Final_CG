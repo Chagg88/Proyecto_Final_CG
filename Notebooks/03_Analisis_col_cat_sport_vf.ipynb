{
 "cells": [
  {
   "cell_type": "code",
   "execution_count": 1,
   "id": "42410900",
   "metadata": {},
   "outputs": [],
   "source": [
    "import pandas as pd\n",
    "import numpy as np\n",
    "import matplotlib.pyplot as plt\n",
    "import seaborn as sns\n",
    "import openpyxl\n",
    "from datetime import datetime, timedelta"
   ]
  },
  {
   "cell_type": "code",
   "execution_count": 2,
   "id": "2c5a0740",
   "metadata": {},
   "outputs": [],
   "source": [
    "pd.set_option(\"display.max_columns\", None)"
   ]
  },
  {
   "cell_type": "code",
   "execution_count": 3,
   "id": "7d6f06ef",
   "metadata": {},
   "outputs": [
    {
     "data": {
      "text/html": [
       "<div>\n",
       "<style scoped>\n",
       "    .dataframe tbody tr th:only-of-type {\n",
       "        vertical-align: middle;\n",
       "    }\n",
       "\n",
       "    .dataframe tbody tr th {\n",
       "        vertical-align: top;\n",
       "    }\n",
       "\n",
       "    .dataframe thead th {\n",
       "        text-align: right;\n",
       "    }\n",
       "</style>\n",
       "<table border=\"1\" class=\"dataframe\">\n",
       "  <thead>\n",
       "    <tr style=\"text-align: right;\">\n",
       "      <th></th>\n",
       "      <th>Sale_ID</th>\n",
       "      <th>Product_ID</th>\n",
       "      <th>Store_Country</th>\n",
       "      <th>Quantity_Sold</th>\n",
       "      <th>Discount_percent</th>\n",
       "      <th>sale_date</th>\n",
       "      <th>payment_method</th>\n",
       "      <th>customer_age</th>\n",
       "      <th>customer_gender</th>\n",
       "      <th>Membership</th>\n",
       "      <th>Product_Name</th>\n",
       "      <th>Category</th>\n",
       "      <th>Sale_Price_EUR</th>\n",
       "      <th>Cost_Price_EUR</th>\n",
       "      <th>Stock</th>\n",
       "      <th>Country_Origin</th>\n",
       "      <th>Brand</th>\n",
       "      <th>Color</th>\n",
       "      <th>Size</th>\n",
       "      <th>Gender</th>\n",
       "      <th>Gross_Sales</th>\n",
       "      <th>Total_Discount</th>\n",
       "      <th>Net_Sales</th>\n",
       "      <th>Total_Cost</th>\n",
       "      <th>Total_Profit_EUR</th>\n",
       "      <th>Profit_Percent</th>\n",
       "    </tr>\n",
       "  </thead>\n",
       "  <tbody>\n",
       "    <tr>\n",
       "      <th>0</th>\n",
       "      <td>S000001</td>\n",
       "      <td>S001071</td>\n",
       "      <td>Australia</td>\n",
       "      <td>10</td>\n",
       "      <td>0.0</td>\n",
       "      <td>2023-05-24</td>\n",
       "      <td>Transfer</td>\n",
       "      <td>22</td>\n",
       "      <td>Not specified</td>\n",
       "      <td>No</td>\n",
       "      <td>T-shirt</td>\n",
       "      <td>Clothing</td>\n",
       "      <td>126.25</td>\n",
       "      <td>-79.54</td>\n",
       "      <td>327</td>\n",
       "      <td>EE.UU.</td>\n",
       "      <td>Nike</td>\n",
       "      <td>Red</td>\n",
       "      <td>XL</td>\n",
       "      <td>Male</td>\n",
       "      <td>1262.50</td>\n",
       "      <td>0.0</td>\n",
       "      <td>1262.50</td>\n",
       "      <td>-795.40</td>\n",
       "      <td>467.10</td>\n",
       "      <td>0.369980</td>\n",
       "    </tr>\n",
       "    <tr>\n",
       "      <th>1</th>\n",
       "      <td>S000002</td>\n",
       "      <td>S000592</td>\n",
       "      <td>Australia</td>\n",
       "      <td>4</td>\n",
       "      <td>0.0</td>\n",
       "      <td>2023-10-24</td>\n",
       "      <td>PayPal</td>\n",
       "      <td>23</td>\n",
       "      <td>Not specified</td>\n",
       "      <td>No</td>\n",
       "      <td>Sandals</td>\n",
       "      <td>Footwear</td>\n",
       "      <td>121.77</td>\n",
       "      <td>-68.19</td>\n",
       "      <td>117</td>\n",
       "      <td>Spain</td>\n",
       "      <td>Puma</td>\n",
       "      <td>Gray</td>\n",
       "      <td>M</td>\n",
       "      <td>Male</td>\n",
       "      <td>487.08</td>\n",
       "      <td>0.0</td>\n",
       "      <td>487.08</td>\n",
       "      <td>-272.76</td>\n",
       "      <td>214.32</td>\n",
       "      <td>0.440010</td>\n",
       "    </tr>\n",
       "    <tr>\n",
       "      <th>2</th>\n",
       "      <td>S000003</td>\n",
       "      <td>S001460</td>\n",
       "      <td>EE.UU.</td>\n",
       "      <td>9</td>\n",
       "      <td>0.0</td>\n",
       "      <td>2023-09-15</td>\n",
       "      <td>Cash</td>\n",
       "      <td>55</td>\n",
       "      <td>Male</td>\n",
       "      <td>No</td>\n",
       "      <td>Cap</td>\n",
       "      <td>Accessories</td>\n",
       "      <td>312.72</td>\n",
       "      <td>-212.65</td>\n",
       "      <td>53</td>\n",
       "      <td>EE.UU.</td>\n",
       "      <td>Under Armour</td>\n",
       "      <td>Black</td>\n",
       "      <td>M</td>\n",
       "      <td>Male</td>\n",
       "      <td>2814.48</td>\n",
       "      <td>0.0</td>\n",
       "      <td>2814.48</td>\n",
       "      <td>-1913.85</td>\n",
       "      <td>900.63</td>\n",
       "      <td>0.319999</td>\n",
       "    </tr>\n",
       "  </tbody>\n",
       "</table>\n",
       "</div>"
      ],
      "text/plain": [
       "   Sale_ID Product_ID Store_Country  Quantity_Sold  Discount_percent  \\\n",
       "0  S000001    S001071     Australia             10               0.0   \n",
       "1  S000002    S000592     Australia              4               0.0   \n",
       "2  S000003    S001460        EE.UU.              9               0.0   \n",
       "\n",
       "   sale_date payment_method  customer_age customer_gender Membership  \\\n",
       "0 2023-05-24       Transfer            22   Not specified         No   \n",
       "1 2023-10-24         PayPal            23   Not specified         No   \n",
       "2 2023-09-15           Cash            55            Male         No   \n",
       "\n",
       "  Product_Name     Category  Sale_Price_EUR  Cost_Price_EUR  Stock  \\\n",
       "0      T-shirt     Clothing          126.25          -79.54    327   \n",
       "1      Sandals     Footwear          121.77          -68.19    117   \n",
       "2          Cap  Accessories          312.72         -212.65     53   \n",
       "\n",
       "  Country_Origin         Brand  Color Size Gender  Gross_Sales  \\\n",
       "0         EE.UU.          Nike    Red   XL   Male      1262.50   \n",
       "1          Spain          Puma   Gray    M   Male       487.08   \n",
       "2         EE.UU.  Under Armour  Black    M   Male      2814.48   \n",
       "\n",
       "   Total_Discount  Net_Sales  Total_Cost  Total_Profit_EUR  Profit_Percent  \n",
       "0             0.0    1262.50     -795.40            467.10        0.369980  \n",
       "1             0.0     487.08     -272.76            214.32        0.440010  \n",
       "2             0.0    2814.48    -1913.85            900.63        0.319999  "
      ]
     },
     "execution_count": 3,
     "metadata": {},
     "output_type": "execute_result"
    }
   ],
   "source": [
    "df_cat = pd.read_csv(r\"C:\\Users\\Renée García Mathieu\\Desktop\\Proyecto_Final\\Transformed_Data\\Merge_Data_Profit_VF\", parse_dates=['sale_date'])\n",
    "df_cat.head(3)"
   ]
  },
  {
   "cell_type": "code",
   "execution_count": 4,
   "id": "d375a27a",
   "metadata": {},
   "outputs": [
    {
     "name": "stdout",
     "output_type": "stream",
     "text": [
      "<class 'pandas.core.frame.DataFrame'>\n",
      "RangeIndex: 76578 entries, 0 to 76577\n",
      "Data columns (total 26 columns):\n",
      " #   Column            Non-Null Count  Dtype         \n",
      "---  ------            --------------  -----         \n",
      " 0   Sale_ID           76578 non-null  object        \n",
      " 1   Product_ID        76578 non-null  object        \n",
      " 2   Store_Country     76578 non-null  object        \n",
      " 3   Quantity_Sold     76578 non-null  int64         \n",
      " 4   Discount_percent  76578 non-null  float64       \n",
      " 5   sale_date         76578 non-null  datetime64[ns]\n",
      " 6   payment_method    76578 non-null  object        \n",
      " 7   customer_age      76578 non-null  int64         \n",
      " 8   customer_gender   76578 non-null  object        \n",
      " 9   Membership        76578 non-null  object        \n",
      " 10  Product_Name      76578 non-null  object        \n",
      " 11  Category          76578 non-null  object        \n",
      " 12  Sale_Price_EUR    76578 non-null  float64       \n",
      " 13  Cost_Price_EUR    76578 non-null  float64       \n",
      " 14  Stock             76578 non-null  int64         \n",
      " 15  Country_Origin    76578 non-null  object        \n",
      " 16  Brand             76578 non-null  object        \n",
      " 17  Color             76578 non-null  object        \n",
      " 18  Size              76578 non-null  object        \n",
      " 19  Gender            76578 non-null  object        \n",
      " 20  Gross_Sales       76578 non-null  float64       \n",
      " 21  Total_Discount    76578 non-null  float64       \n",
      " 22  Net_Sales         76578 non-null  float64       \n",
      " 23  Total_Cost        76578 non-null  float64       \n",
      " 24  Total_Profit_EUR  76578 non-null  float64       \n",
      " 25  Profit_Percent    76578 non-null  float64       \n",
      "dtypes: datetime64[ns](1), float64(9), int64(3), object(13)\n",
      "memory usage: 15.2+ MB\n"
     ]
    }
   ],
   "source": [
    "df_cat.info()"
   ]
  },
  {
   "cell_type": "code",
   "execution_count": 5,
   "id": "ea7a631e",
   "metadata": {},
   "outputs": [
    {
     "data": {
      "text/plain": [
       "Index(['Sale_ID', 'Product_ID', 'Store_Country', 'payment_method',\n",
       "       'customer_gender', 'Membership', 'Product_Name', 'Category',\n",
       "       'Country_Origin', 'Brand', 'Color', 'Size', 'Gender'],\n",
       "      dtype='object')"
      ]
     },
     "execution_count": 5,
     "metadata": {},
     "output_type": "execute_result"
    }
   ],
   "source": [
    "col_categoricas = df_cat.select_dtypes(include=\"object\").columns\n",
    "col_categoricas"
   ]
  },
  {
   "cell_type": "code",
   "execution_count": 6,
   "id": "68f00d01",
   "metadata": {},
   "outputs": [],
   "source": [
    "def analisis_general_cat(df): \n",
    "    col_cat = df.select_dtypes(include=\"object\").columns\n",
    "\n",
    "    if len(col_cat) == 0:\n",
    "        print(\"No hay columnas categóricas\")\n",
    "\n",
    "    else:\n",
    "        for col in col_cat:\n",
    "            print(f\"La distribución de la columna {col.upper()}\")\n",
    "            print(f\"Esta columna tiene {len(df[col].unique())} valores únicos\")\n",
    "            display(df[col].value_counts(normalize=True))\n",
    "            print(\"_______________\\n Describe\")\n",
    "            display(df[col].describe())\n",
    "            print(\"----------------\")\n",
    "\n",
    "    return col_cat"
   ]
  },
  {
   "cell_type": "code",
   "execution_count": 7,
   "id": "7b69b4e8",
   "metadata": {},
   "outputs": [
    {
     "name": "stdout",
     "output_type": "stream",
     "text": [
      "La distribución de la columna SALE_ID\n",
      "Esta columna tiene 76578 valores únicos\n"
     ]
    },
    {
     "data": {
      "text/plain": [
       "Sale_ID\n",
       "S076578    0.000013\n",
       "S000001    0.000013\n",
       "S076562    0.000013\n",
       "S076561    0.000013\n",
       "S076560    0.000013\n",
       "             ...   \n",
       "S000007    0.000013\n",
       "S000006    0.000013\n",
       "S000005    0.000013\n",
       "S000004    0.000013\n",
       "S000003    0.000013\n",
       "Name: proportion, Length: 76578, dtype: float64"
      ]
     },
     "metadata": {},
     "output_type": "display_data"
    },
    {
     "name": "stdout",
     "output_type": "stream",
     "text": [
      "_______________\n",
      " Describe\n"
     ]
    },
    {
     "data": {
      "text/plain": [
       "count       76578\n",
       "unique      76578\n",
       "top       S076578\n",
       "freq            1\n",
       "Name: Sale_ID, dtype: object"
      ]
     },
     "metadata": {},
     "output_type": "display_data"
    },
    {
     "name": "stdout",
     "output_type": "stream",
     "text": [
      "----------------\n",
      "La distribución de la columna PRODUCT_ID\n",
      "Esta columna tiene 1716 valores únicos\n"
     ]
    },
    {
     "data": {
      "text/plain": [
       "Product_ID\n",
       "S001148    0.000875\n",
       "S000556    0.000849\n",
       "S000014    0.000823\n",
       "S001695    0.000823\n",
       "S001063    0.000823\n",
       "             ...   \n",
       "S000598    0.000366\n",
       "S000216    0.000366\n",
       "S000818    0.000353\n",
       "S001528    0.000353\n",
       "S001435    0.000353\n",
       "Name: proportion, Length: 1716, dtype: float64"
      ]
     },
     "metadata": {},
     "output_type": "display_data"
    },
    {
     "name": "stdout",
     "output_type": "stream",
     "text": [
      "_______________\n",
      " Describe\n"
     ]
    },
    {
     "data": {
      "text/plain": [
       "count       76578\n",
       "unique       1716\n",
       "top       S001148\n",
       "freq           67\n",
       "Name: Product_ID, dtype: object"
      ]
     },
     "metadata": {},
     "output_type": "display_data"
    },
    {
     "name": "stdout",
     "output_type": "stream",
     "text": [
      "----------------\n",
      "La distribución de la columna STORE_COUNTRY\n",
      "Esta columna tiene 8 valores únicos\n"
     ]
    },
    {
     "data": {
      "text/plain": [
       "Store_Country\n",
       "Spain        0.126316\n",
       "Australia    0.126054\n",
       "Japan        0.125728\n",
       "Brazil       0.125088\n",
       "Germany      0.124736\n",
       "Mexico       0.124279\n",
       "Uruguay      0.124030\n",
       "EE.UU.       0.123769\n",
       "Name: proportion, dtype: float64"
      ]
     },
     "metadata": {},
     "output_type": "display_data"
    },
    {
     "name": "stdout",
     "output_type": "stream",
     "text": [
      "_______________\n",
      " Describe\n"
     ]
    },
    {
     "data": {
      "text/plain": [
       "count     76578\n",
       "unique        8\n",
       "top       Spain\n",
       "freq       9673\n",
       "Name: Store_Country, dtype: object"
      ]
     },
     "metadata": {},
     "output_type": "display_data"
    },
    {
     "name": "stdout",
     "output_type": "stream",
     "text": [
      "----------------\n",
      "La distribución de la columna PAYMENT_METHOD\n",
      "Esta columna tiene 4 valores únicos\n"
     ]
    },
    {
     "data": {
      "text/plain": [
       "payment_method\n",
       "PayPal      0.251352\n",
       "Cash        0.250529\n",
       "Transfer    0.250098\n",
       "Card        0.248022\n",
       "Name: proportion, dtype: float64"
      ]
     },
     "metadata": {},
     "output_type": "display_data"
    },
    {
     "name": "stdout",
     "output_type": "stream",
     "text": [
      "_______________\n",
      " Describe\n"
     ]
    },
    {
     "data": {
      "text/plain": [
       "count      76578\n",
       "unique         4\n",
       "top       PayPal\n",
       "freq       19248\n",
       "Name: payment_method, dtype: object"
      ]
     },
     "metadata": {},
     "output_type": "display_data"
    },
    {
     "name": "stdout",
     "output_type": "stream",
     "text": [
      "----------------\n",
      "La distribución de la columna CUSTOMER_GENDER\n",
      "Esta columna tiene 3 valores únicos\n"
     ]
    },
    {
     "data": {
      "text/plain": [
       "customer_gender\n",
       "Female           0.335201\n",
       "Male             0.333268\n",
       "Not specified    0.331531\n",
       "Name: proportion, dtype: float64"
      ]
     },
     "metadata": {},
     "output_type": "display_data"
    },
    {
     "name": "stdout",
     "output_type": "stream",
     "text": [
      "_______________\n",
      " Describe\n"
     ]
    },
    {
     "data": {
      "text/plain": [
       "count      76578\n",
       "unique         3\n",
       "top       Female\n",
       "freq       25669\n",
       "Name: customer_gender, dtype: object"
      ]
     },
     "metadata": {},
     "output_type": "display_data"
    },
    {
     "name": "stdout",
     "output_type": "stream",
     "text": [
      "----------------\n",
      "La distribución de la columna MEMBERSHIP\n",
      "Esta columna tiene 2 valores únicos\n"
     ]
    },
    {
     "data": {
      "text/plain": [
       "Membership\n",
       "Yes    0.501828\n",
       "No     0.498172\n",
       "Name: proportion, dtype: float64"
      ]
     },
     "metadata": {},
     "output_type": "display_data"
    },
    {
     "name": "stdout",
     "output_type": "stream",
     "text": [
      "_______________\n",
      " Describe\n"
     ]
    },
    {
     "data": {
      "text/plain": [
       "count     76578\n",
       "unique        2\n",
       "top         Yes\n",
       "freq      38429\n",
       "Name: Membership, dtype: object"
      ]
     },
     "metadata": {},
     "output_type": "display_data"
    },
    {
     "name": "stdout",
     "output_type": "stream",
     "text": [
      "----------------\n",
      "La distribución de la columna PRODUCT_NAME\n",
      "Esta columna tiene 25 valores únicos\n"
     ]
    },
    {
     "data": {
      "text/plain": [
       "Product_Name\n",
       "Running shoes      0.063021\n",
       "Sneakers           0.050419\n",
       "Pants              0.049348\n",
       "Boots              0.049166\n",
       "Sandals            0.047168\n",
       "T-shirt            0.045731\n",
       "Jacket             0.043054\n",
       "Gloves             0.041761\n",
       "Sunglasses         0.040926\n",
       "Balls              0.040756\n",
       "Bracelet           0.040116\n",
       "Leggings           0.038745\n",
       "Jump Rope          0.038562\n",
       "Football shoes     0.038118\n",
       "Coat               0.038014\n",
       "Resitance bands    0.037426\n",
       "Yoga mat           0.036838\n",
       "Foam Roller        0.036538\n",
       "Cap                0.035506\n",
       "Towel              0.034866\n",
       "Shorts             0.032268\n",
       "Weight Discs       0.030936\n",
       "Backpack           0.030662\n",
       "Rackets            0.030191\n",
       "Belt               0.029865\n",
       "Name: proportion, dtype: float64"
      ]
     },
     "metadata": {},
     "output_type": "display_data"
    },
    {
     "name": "stdout",
     "output_type": "stream",
     "text": [
      "_______________\n",
      " Describe\n"
     ]
    },
    {
     "data": {
      "text/plain": [
       "count             76578\n",
       "unique               25\n",
       "top       Running shoes\n",
       "freq               4826\n",
       "Name: Product_Name, dtype: object"
      ]
     },
     "metadata": {},
     "output_type": "display_data"
    },
    {
     "name": "stdout",
     "output_type": "stream",
     "text": [
      "----------------\n",
      "La distribución de la columna CATEGORY\n",
      "Esta columna tiene 4 valores únicos\n"
     ]
    },
    {
     "data": {
      "text/plain": [
       "Category\n",
       "Accessories    0.253702\n",
       "Equipment      0.251247\n",
       "Footwear       0.247891\n",
       "Clothing       0.247160\n",
       "Name: proportion, dtype: float64"
      ]
     },
     "metadata": {},
     "output_type": "display_data"
    },
    {
     "name": "stdout",
     "output_type": "stream",
     "text": [
      "_______________\n",
      " Describe\n"
     ]
    },
    {
     "data": {
      "text/plain": [
       "count           76578\n",
       "unique              4\n",
       "top       Accessories\n",
       "freq            19428\n",
       "Name: Category, dtype: object"
      ]
     },
     "metadata": {},
     "output_type": "display_data"
    },
    {
     "name": "stdout",
     "output_type": "stream",
     "text": [
      "----------------\n",
      "La distribución de la columna COUNTRY_ORIGIN\n",
      "Esta columna tiene 8 valores únicos\n"
     ]
    },
    {
     "data": {
      "text/plain": [
       "Country_Origin\n",
       "Mexico       0.136658\n",
       "Japan        0.130743\n",
       "Spain        0.127582\n",
       "Australia    0.126459\n",
       "Brazil       0.123756\n",
       "Uruguay      0.119682\n",
       "Germany      0.118663\n",
       "EE.UU.       0.116456\n",
       "Name: proportion, dtype: float64"
      ]
     },
     "metadata": {},
     "output_type": "display_data"
    },
    {
     "name": "stdout",
     "output_type": "stream",
     "text": [
      "_______________\n",
      " Describe\n"
     ]
    },
    {
     "data": {
      "text/plain": [
       "count      76578\n",
       "unique         8\n",
       "top       Mexico\n",
       "freq       10465\n",
       "Name: Country_Origin, dtype: object"
      ]
     },
     "metadata": {},
     "output_type": "display_data"
    },
    {
     "name": "stdout",
     "output_type": "stream",
     "text": [
      "----------------\n",
      "La distribución de la columna BRAND\n",
      "Esta columna tiene 5 valores únicos\n"
     ]
    },
    {
     "data": {
      "text/plain": [
       "Brand\n",
       "Reebok          0.212750\n",
       "Under Armour    0.208963\n",
       "Adidas          0.198347\n",
       "Puma            0.193593\n",
       "Nike            0.186346\n",
       "Name: proportion, dtype: float64"
      ]
     },
     "metadata": {},
     "output_type": "display_data"
    },
    {
     "name": "stdout",
     "output_type": "stream",
     "text": [
      "_______________\n",
      " Describe\n"
     ]
    },
    {
     "data": {
      "text/plain": [
       "count      76578\n",
       "unique         5\n",
       "top       Reebok\n",
       "freq       16292\n",
       "Name: Brand, dtype: object"
      ]
     },
     "metadata": {},
     "output_type": "display_data"
    },
    {
     "name": "stdout",
     "output_type": "stream",
     "text": [
      "----------------\n",
      "La distribución de la columna COLOR\n",
      "Esta columna tiene 6 valores únicos\n"
     ]
    },
    {
     "data": {
      "text/plain": [
       "Color\n",
       "Red      0.183173\n",
       "Blue     0.183016\n",
       "White    0.164394\n",
       "Gray     0.160177\n",
       "Black    0.155045\n",
       "Green    0.154196\n",
       "Name: proportion, dtype: float64"
      ]
     },
     "metadata": {},
     "output_type": "display_data"
    },
    {
     "name": "stdout",
     "output_type": "stream",
     "text": [
      "_______________\n",
      " Describe\n"
     ]
    },
    {
     "data": {
      "text/plain": [
       "count     76578\n",
       "unique        6\n",
       "top         Red\n",
       "freq      14027\n",
       "Name: Color, dtype: object"
      ]
     },
     "metadata": {},
     "output_type": "display_data"
    },
    {
     "name": "stdout",
     "output_type": "stream",
     "text": [
      "----------------\n",
      "La distribución de la columna SIZE\n",
      "Esta columna tiene 4 valores únicos\n"
     ]
    },
    {
     "data": {
      "text/plain": [
       "Size\n",
       "L     0.262412\n",
       "S     0.249367\n",
       "M     0.245893\n",
       "XL    0.242328\n",
       "Name: proportion, dtype: float64"
      ]
     },
     "metadata": {},
     "output_type": "display_data"
    },
    {
     "name": "stdout",
     "output_type": "stream",
     "text": [
      "_______________\n",
      " Describe\n"
     ]
    },
    {
     "data": {
      "text/plain": [
       "count     76578\n",
       "unique        4\n",
       "top           L\n",
       "freq      20095\n",
       "Name: Size, dtype: object"
      ]
     },
     "metadata": {},
     "output_type": "display_data"
    },
    {
     "name": "stdout",
     "output_type": "stream",
     "text": [
      "----------------\n",
      "La distribución de la columna GENDER\n",
      "Esta columna tiene 2 valores únicos\n"
     ]
    },
    {
     "data": {
      "text/plain": [
       "Gender\n",
       "Male      0.52438\n",
       "Female    0.47562\n",
       "Name: proportion, dtype: float64"
      ]
     },
     "metadata": {},
     "output_type": "display_data"
    },
    {
     "name": "stdout",
     "output_type": "stream",
     "text": [
      "_______________\n",
      " Describe\n"
     ]
    },
    {
     "data": {
      "text/plain": [
       "count     76578\n",
       "unique        2\n",
       "top        Male\n",
       "freq      40156\n",
       "Name: Gender, dtype: object"
      ]
     },
     "metadata": {},
     "output_type": "display_data"
    },
    {
     "name": "stdout",
     "output_type": "stream",
     "text": [
      "----------------\n"
     ]
    },
    {
     "data": {
      "text/plain": [
       "Index(['Sale_ID', 'Product_ID', 'Store_Country', 'payment_method',\n",
       "       'customer_gender', 'Membership', 'Product_Name', 'Category',\n",
       "       'Country_Origin', 'Brand', 'Color', 'Size', 'Gender'],\n",
       "      dtype='object')"
      ]
     },
     "execution_count": 7,
     "metadata": {},
     "output_type": "execute_result"
    }
   ],
   "source": [
    "analisis_general_cat(df_cat)"
   ]
  },
  {
   "cell_type": "code",
   "execution_count": 8,
   "id": "0b43200f",
   "metadata": {},
   "outputs": [],
   "source": [
    "def subplot_col_cat(df, max_unique=100, top_n=20):\n",
    "    categorical_col = df.select_dtypes(include=[\"object\", \"category\"]).columns\n",
    "\n",
    "    if len(categorical_col) == 0:\n",
    "        print(\"No hay columnas categóricas en el DF\")\n",
    "        return\n",
    "    \n",
    "    categorical_col = [col for col in categorical_col if df[col].unique() <= max_unique]\n",
    "\n",
    "    num_cols = len(categorical_col)\n",
    "    rows = (num_cols + 2) // 3\n",
    "    fig, axes = plt.subplots(rows,3, figsize=(15, rows * 5))\n",
    "    axes = axes.flatten()\n",
    "\n",
    "    for i, col in enumerate(categorical_col):\n",
    "        top_categories = df[col].value_counts().nlargest(top_n).index\n",
    "        filtered_data = df[df[col].isin(top_categories)]\n",
    "        sns.countplot(data=df, x= col, ax=axes[i], hue=col, palette=\"tab10\", legend=False, order=top_categories)\n",
    "        axes[i].set_title(f\"Distribución de {col}\")\n",
    "        axes[i].set_xlabel(col)\n",
    "        axes[i].set_ylabel(\"Frecuencia\")\n",
    "        axes[i].tick_params(axis=\"x\", rotation = 90)\n",
    "\n",
    "    for j in range(i+1, len(axes)):\n",
    "        fig.delaxes(axes[j])\n",
    "\n",
    "    plt.tight_layout()\n",
    "    plt.show()"
   ]
  },
  {
   "cell_type": "code",
   "execution_count": 9,
   "id": "4e8cb5e8",
   "metadata": {},
   "outputs": [],
   "source": [
    "col_cat_grap = ['Store_Country', 'payment_method',\n",
    "       'customer_gender', 'Membership', 'Product_Name', 'Category',\n",
    "       'Country_Origin', 'Brand', 'Color', 'Size', 'Gender']"
   ]
  },
  {
   "cell_type": "code",
   "execution_count": 10,
   "id": "15cb8480",
   "metadata": {},
   "outputs": [
    {
     "name": "stdout",
     "output_type": "stream",
     "text": [
      "Distribución de la columna Store_Country\n"
     ]
    },
    {
     "data": {
      "image/png": "[encoded data removed]",
      "text/plain": [
       "<Figure size 1600x300 with 1 Axes>"
      ]
     },
     "metadata": {},
     "output_type": "display_data"
    },
    {
     "name": "stdout",
     "output_type": "stream",
     "text": [
      "Distribución de la columna payment_method\n"
     ]
    },
    {
     "data": {
      "image/png": "[encoded data removed]",
      "text/plain": [
       "<Figure size 800x300 with 1 Axes>"
      ]
     },
     "metadata": {},
     "output_type": "display_data"
    },
    {
     "name": "stdout",
     "output_type": "stream",
     "text": [
      "Distribución de la columna customer_gender\n"
     ]
    },
    {
     "data": {
      "image/png": "[encoded data removed]",
      "text/plain": [
       "<Figure size 600x300 with 1 Axes>"
      ]
     },
     "metadata": {},
     "output_type": "display_data"
    },
    {
     "name": "stdout",
     "output_type": "stream",
     "text": [
      "Distribución de la columna Membership\n"
     ]
    },
    {
     "data": {
      "image/png": "[encoded data removed]",
      "text/plain": [
       "<Figure size 400x300 with 1 Axes>"
      ]
     },
     "metadata": {},
     "output_type": "display_data"
    },
    {
     "name": "stdout",
     "output_type": "stream",
     "text": [
      "Distribución de la columna Product_Name\n"
     ]
    },
    {
     "data": {
      "image/png": "[encoded data removed]",
      "text/plain": [
       "<Figure size 5000x300 with 1 Axes>"
      ]
     },
     "metadata": {},
     "output_type": "display_data"
    },
    {
     "name": "stdout",
     "output_type": "stream",
     "text": [
      "Distribución de la columna Category\n"
     ]
    },
    {
     "data": {
      "image/png": "[encoded data removed]",
      "text/plain": [
       "<Figure size 800x300 with 1 Axes>"
      ]
     },
     "metadata": {},
     "output_type": "display_data"
    },
    {
     "name": "stdout",
     "output_type": "stream",
     "text": [
      "Distribución de la columna Country_Origin\n"
     ]
    },
    {
     "data": {
      "image/png": "[encoded data removed]",
      "text/plain": [
       "<Figure size 1600x300 with 1 Axes>"
      ]
     },
     "metadata": {},
     "output_type": "display_data"
    },
    {
     "name": "stdout",
     "output_type": "stream",
     "text": [
      "Distribución de la columna Brand\n"
     ]
    },
    {
     "data": {
      "image/png": "[encoded data removed]",
      "text/plain": [
       "<Figure size 1000x300 with 1 Axes>"
      ]
     },
     "metadata": {},
     "output_type": "display_data"
    },
    {
     "name": "stdout",
     "output_type": "stream",
     "text": [
      "Distribución de la columna Color\n"
     ]
    },
    {
     "data": {
      "image/png": "[encoded data removed]",
      "text/plain": [
       "<Figure size 1200x300 with 1 Axes>"
      ]
     },
     "metadata": {},
     "output_type": "display_data"
    },
    {
     "name": "stdout",
     "output_type": "stream",
     "text": [
      "Distribución de la columna Size\n"
     ]
    },
    {
     "data": {
      "image/png": "[encoded data removed]",
      "text/plain": [
       "<Figure size 800x300 with 1 Axes>"
      ]
     },
     "metadata": {},
     "output_type": "display_data"
    },
    {
     "name": "stdout",
     "output_type": "stream",
     "text": [
      "Distribución de la columna Gender\n"
     ]
    },
    {
     "data": {
      "image/png": "[encoded data removed]",
      "text/plain": [
       "<Figure size 400x300 with 1 Axes>"
      ]
     },
     "metadata": {},
     "output_type": "display_data"
    }
   ],
   "source": [
    "for col in col_cat_grap:\n",
    "    print(f\"Distribución de la columna {col}\")\n",
    "    plt.figure(figsize=(df_cat[col].nunique() * 2, 3))\n",
    "    sns.countplot(x=df_cat[col], order=df_cat[col].value_counts().index)\n",
    "    plt.show()"
   ]
  }
 ],
 "metadata": {
  "kernelspec": {
   "display_name": "Python 3",
   "language": "python",
   "name": "python3"
  },
  "language_info": {
   "codemirror_mode": {
    "name": "ipython",
    "version": 3
   },
   "file_extension": ".py",
   "mimetype": "text/x-python",
   "name": "python",
   "nbconvert_exporter": "python",
   "pygments_lexer": "ipython3",
   "version": "3.12.2"
  }
 },
 "nbformat": 4,
 "nbformat_minor": 5
}
